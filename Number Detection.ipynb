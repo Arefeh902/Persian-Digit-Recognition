{
 "cells": [
  {
   "cell_type": "code",
   "execution_count": 7,
   "id": "ea0a1262",
   "metadata": {},
   "outputs": [],
   "source": [
    "#=================================================================================================================\n",
    "#                                           Libraries\n",
    "#=================================================================================================================\n",
    "\n",
    "import pandas as pd\n",
    "import numpy as np\n",
    "import matplotlib.pyplot as plt\n",
    "import PIL \n",
    "import os"
   ]
  },
  {
   "cell_type": "code",
   "execution_count": 38,
   "id": "417c7476",
   "metadata": {},
   "outputs": [],
   "source": [
    "#=================================================================================================================\n",
    "#                                           Image Preparation\n",
    "#=================================================================================================================\n",
    "from sklearn.model_selection import train_test_split\n",
    "\n",
    "def load_custom_dataset(dataset_path):\n",
    "    images = []\n",
    "    labels = []\n",
    "\n",
    "    for root, dirs, files in os.walk(dataset_path):\n",
    "        for file in files:\n",
    "            if file.endswith(('.png', '.jpg', '.jpeg')):\n",
    "                label = os.path.basename(root)\n",
    "                image_path = os.path.join(root, file)\n",
    "\n",
    "                images.append(preprocess_image(image_path))\n",
    "#                 images.append(image_path)\n",
    "                labels.append(label)\n",
    "            \n",
    "    return images, labels\n",
    "\n",
    "def preprocess_image(image_path):\n",
    "    img = PIL.Image.open(image_path)\n",
    "            \n",
    "    # convert to grayscale\n",
    "    img = img.convert('L')\n",
    "    # resize \n",
    "    img = img.resize((8,8))\n",
    "    \n",
    "    return np.array(img).flatten()\n",
    "\n"
   ]
  },
  {
   "cell_type": "code",
   "execution_count": 39,
   "id": "71f0b58c",
   "metadata": {},
   "outputs": [],
   "source": [
    "#=================================================================================================================\n",
    "#                                          Loading Dataset\n",
    "#=================================================================================================================\n",
    "\n",
    "images, labels = load_custom_dataset(\"Dataset\")\n",
    "\n",
    "test_size = 1/5\n",
    "random_state = 42\n",
    "images_train, images_test, labels_train, labels_test = train_test_split(images, \n",
    "                                                                        labels, \n",
    "                                                                        test_size=test_size, \n",
    "                                                                        random_state=random_state)"
   ]
  },
  {
   "cell_type": "code",
   "execution_count": 42,
   "id": "042f1a13",
   "metadata": {},
   "outputs": [],
   "source": [
    "#=================================================================================================================\n",
    "#                                           Implement Your Algorithm\n",
    "#=================================================================================================================\n",
    "\n"
   ]
  },
  {
   "cell_type": "code",
   "execution_count": 8,
   "id": "75d80368",
   "metadata": {},
   "outputs": [],
   "source": [
    "#=================================================================================================================\n",
    "#                                           NEURAL NETWORK (BONUS)\n",
    "#=================================================================================================================\n",
    "\n",
    "#  Write You Code Here"
   ]
  },
  {
   "cell_type": "code",
   "execution_count": 9,
   "id": "c23449d0",
   "metadata": {},
   "outputs": [],
   "source": [
    "#=================================================================================================================\n",
    "#                                           Test Section\n",
    "#=================================================================================================================\n",
    "\n",
    "\n",
    "# Leave it blank"
   ]
  },
  {
   "cell_type": "code",
   "execution_count": null,
   "id": "9950253e",
   "metadata": {},
   "outputs": [],
   "source": [
    "#=================================================================================================================\n",
    "#                                           Visualization\n",
    "#=================================================================================================================\n",
    "\n",
    "#  Write You Code Here"
   ]
  }
 ],
 "metadata": {
  "kernelspec": {
   "display_name": ".venv",
   "language": "python",
   "name": ".venv"
  },
  "language_info": {
   "codemirror_mode": {
    "name": "ipython",
    "version": 3
   },
   "file_extension": ".py",
   "mimetype": "text/x-python",
   "name": "python",
   "nbconvert_exporter": "python",
   "pygments_lexer": "ipython3",
   "version": "3.11.2"
  }
 },
 "nbformat": 4,
 "nbformat_minor": 5
}
